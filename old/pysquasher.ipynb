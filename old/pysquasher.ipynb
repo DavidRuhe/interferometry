{
 "cells": [
  {
   "cell_type": "code",
   "execution_count": 1,
   "metadata": {},
   "outputs": [],
   "source": [
    "from vismanip import TransitVis\n",
    "import struct\n",
    "import datetime\n",
    "import pytz\n",
    "import numpy as np"
   ]
  },
  {
   "cell_type": "code",
   "execution_count": 1,
   "metadata": {},
   "outputs": [],
   "source": [
    "fvis = open('/project/druhe/SB281-202011112023-lba_outer.vis', 'rb')"
   ]
  },
  {
   "cell_type": "code",
   "execution_count": 16,
   "metadata": {},
   "outputs": [],
   "source": [
    "NUM_ANT = 576"
   ]
  },
  {
   "cell_type": "code",
   "execution_count": 3,
   "metadata": {},
   "outputs": [],
   "source": [
    "LEN_HDR = 512\n",
    "nant = 576\n",
    "nbline  = nant*(nant+1)/2\n",
    "pol2rec = 2\n",
    "# 8 due to float complex.\n",
    "nbline = int(nant * (nant + 1) / 2)\n",
    "nchan = 3\n",
    "payload = nbline * nchan * pol2rec * 8\n",
    "recsize = int(payload + LEN_HDR)\n",
    "nweight =(12*13)/2\n",
    "sub = 281\n",
    "freq = sub * 195312.5\n",
    "npol = 2\n",
    "norigchan = nchan\n",
    "ateamflux       = np.zeros ( (npol, 5) ) \n"
   ]
  },
  {
   "cell_type": "code",
   "execution_count": 4,
   "metadata": {},
   "outputs": [],
   "source": [
    "def parse_vis_hdr(hdr):\n",
    "    magic, t0, t1 = struct.unpack(\"<Qdd\", hdr[0:24])\n",
    "    print(magic, t0, t1)\n",
    "    weights = struct.unpack ((\"<%di\" % nweight), \n",
    "                                header[148:int(148+nweight*4)])\n",
    "    return (magic, datetime.datetime.utcfromtimestamp(t0).replace(tzinfo=\\\n",
    "        pytz.utc), datetime.datetime.utcfromtimestamp(t1).replace(tzinfo=\\\n",
    "        pytz.utc), sub, nant, npol, norigchan, \n",
    "        ateamflux, 0, 0, weights, freq)"
   ]
  },
  {
   "cell_type": "code",
   "execution_count": 5,
   "metadata": {},
   "outputs": [],
   "source": [
    "recbuf = fvis.read(recsize)"
   ]
  },
  {
   "cell_type": "code",
   "execution_count": 6,
   "metadata": {},
   "outputs": [],
   "source": [
    "header = recbuf[0:512]\n",
    "data = recbuf[512:]"
   ]
  },
  {
   "cell_type": "code",
   "execution_count": 12,
   "metadata": {},
   "outputs": [
    {
     "name": "stdout",
     "output_type": "stream",
     "text": [
      "1081992285376802818 1605126360.0 1605126361.006633\n"
     ]
    }
   ],
   "source": [
    "m, trec, t1, subband,_,_,_,_,_,_,_,_ = parse_vis_hdr(header)\n"
   ]
  },
  {
   "cell_type": "code",
   "execution_count": 7,
   "metadata": {
    "tags": []
   },
   "outputs": [],
   "source": [
    "from scipy.constants import c\n",
    "\n",
    "def parse_lba_antennafield(f, subband):\n",
    "\n",
    "    with open(f) as f:\n",
    "        lines = [line.strip() for line in f.readlines()]\n",
    "\n",
    "    positions = []\n",
    "    lba_start = lines.index('LBA')\n",
    "    data_start = lba_start + 3\n",
    "    data_end = lines.index(']', lba_start)\n",
    "    num_antennas = data_end - data_start\n",
    "    offset = [float(x) for x in lines[lba_start+1].split()[2:5]]\n",
    "    for line in lines[data_start: data_end]:\n",
    "        x, y, z = [float(x) for x in line.split()[0:3]]\n",
    "        positions.append(\n",
    "            [offset[0] + x, offset[1] + y, offset[2] + z]\n",
    "        )\n",
    "    \n",
    "    rot_matrix = []\n",
    "    lba_rot_start = lines.index('ROTATION_MATRIX LBA')\n",
    "    data_start = lba_rot_start + 2\n",
    "    data_end = lba_rot_start + 5\n",
    "    for line in lines[data_start: data_end]:\n",
    "        x, y, z = [float(x) for x in line.split()[0:3]]\n",
    "        rot_matrix.append(\n",
    "            [x, y, z]\n",
    "        )\n",
    "\n",
    "    A = np.array(positions)\n",
    "    \n",
    "    np.savetxt('lba_outer_a12.dat', A, fmt='%f')\n",
    "    \n",
    "    raise\n",
    "    R = np.array(rot_matrix)\n",
    "    L = A.dot(R)\n",
    "    print(len(L))\n",
    "\n",
    "    u, v = [], []\n",
    "\n",
    "    for a1 in range(0, num_antennas):\n",
    "        for a2 in range(0, a1+1):\n",
    "            u.append(L[a1, 0] - L[a2, 0])\n",
    "            v.append(L[a1, 1] - L[a2, 1])\n",
    "\n",
    "    # Don't know what these constants are. Probably converting to wavelengths. \n",
    "    return [np.ravel([(np.array(u)/(c/(s*(2e8/1024))/2.0)) for s in subbands]),\n",
    "            np.ravel([(np.array(v)/(c/(s*(2e8/1024))/2.0)) for s in subbands])]\n"
   ]
  },
  {
   "cell_type": "code",
   "execution_count": 8,
   "metadata": {},
   "outputs": [],
   "source": [
    "import matplotlib.pyplot as plt\n"
   ]
  },
  {
   "cell_type": "code",
   "execution_count": 9,
   "metadata": {},
   "outputs": [
    {
     "ename": "RuntimeError",
     "evalue": "No active exception to reraise",
     "output_type": "error",
     "traceback": [
      "\u001b[0;31m---------------------------------------------------------------------------\u001b[0m",
      "\u001b[0;31mRuntimeError\u001b[0m                              Traceback (most recent call last)",
      "\u001b[0;32m<ipython-input-9-4bc0afbfd91e>\u001b[0m in \u001b[0;36m<module>\u001b[0;34m\u001b[0m\n\u001b[0;32m----> 1\u001b[0;31m \u001b[0mantennafield\u001b[0m \u001b[0;34m=\u001b[0m \u001b[0mparse_lba_antennafield\u001b[0m\u001b[0;34m(\u001b[0m\u001b[0;34m'a12-AntennaField.conf'\u001b[0m\u001b[0;34m,\u001b[0m \u001b[0;36m288\u001b[0m\u001b[0;34m)\u001b[0m\u001b[0;34m\u001b[0m\u001b[0m\n\u001b[0m\u001b[1;32m      2\u001b[0m \u001b[0mplt\u001b[0m\u001b[0;34m.\u001b[0m\u001b[0mscatter\u001b[0m\u001b[0;34m(\u001b[0m\u001b[0;34m*\u001b[0m\u001b[0mantennafield\u001b[0m\u001b[0;34m,\u001b[0m \u001b[0ms\u001b[0m\u001b[0;34m=\u001b[0m\u001b[0;36m1\u001b[0m\u001b[0;34m)\u001b[0m\u001b[0;34m\u001b[0m\u001b[0m\n\u001b[1;32m      3\u001b[0m \u001b[0mplt\u001b[0m\u001b[0;34m.\u001b[0m\u001b[0mxlabel\u001b[0m\u001b[0;34m(\u001b[0m\u001b[0;34m'U'\u001b[0m\u001b[0;34m)\u001b[0m\u001b[0;34m\u001b[0m\u001b[0m\n\u001b[1;32m      4\u001b[0m \u001b[0mplt\u001b[0m\u001b[0;34m.\u001b[0m\u001b[0mylabel\u001b[0m\u001b[0;34m(\u001b[0m\u001b[0;34m'V'\u001b[0m\u001b[0;34m)\u001b[0m\u001b[0;34m\u001b[0m\u001b[0m\n\u001b[1;32m      5\u001b[0m \u001b[0mplt\u001b[0m\u001b[0;34m.\u001b[0m\u001b[0mtitle\u001b[0m\u001b[0;34m(\u001b[0m\u001b[0;34m'AARTFAAC12 UV Coverage'\u001b[0m\u001b[0;34m)\u001b[0m\u001b[0;34m\u001b[0m\u001b[0m\n",
      "\u001b[0;32m<ipython-input-7-6697c66de514>\u001b[0m in \u001b[0;36mparse_lba_antennafield\u001b[0;34m(f, subband)\u001b[0m\n\u001b[1;32m     32\u001b[0m     \u001b[0mnp\u001b[0m\u001b[0;34m.\u001b[0m\u001b[0msavetxt\u001b[0m\u001b[0;34m(\u001b[0m\u001b[0;34m'lba_outer_a12.dat'\u001b[0m\u001b[0;34m,\u001b[0m \u001b[0mA\u001b[0m\u001b[0;34m,\u001b[0m \u001b[0mfmt\u001b[0m\u001b[0;34m=\u001b[0m\u001b[0;34m'%f'\u001b[0m\u001b[0;34m)\u001b[0m\u001b[0;34m\u001b[0m\u001b[0m\n\u001b[1;32m     33\u001b[0m \u001b[0;34m\u001b[0m\u001b[0m\n\u001b[0;32m---> 34\u001b[0;31m     \u001b[0;32mraise\u001b[0m\u001b[0;34m\u001b[0m\u001b[0m\n\u001b[0m\u001b[1;32m     35\u001b[0m     \u001b[0mR\u001b[0m \u001b[0;34m=\u001b[0m \u001b[0mnp\u001b[0m\u001b[0;34m.\u001b[0m\u001b[0marray\u001b[0m\u001b[0;34m(\u001b[0m\u001b[0mrot_matrix\u001b[0m\u001b[0;34m)\u001b[0m\u001b[0;34m\u001b[0m\u001b[0m\n\u001b[1;32m     36\u001b[0m     \u001b[0mL\u001b[0m \u001b[0;34m=\u001b[0m \u001b[0mA\u001b[0m\u001b[0;34m.\u001b[0m\u001b[0mdot\u001b[0m\u001b[0;34m(\u001b[0m\u001b[0mR\u001b[0m\u001b[0;34m)\u001b[0m\u001b[0;34m\u001b[0m\u001b[0m\n",
      "\u001b[0;31mRuntimeError\u001b[0m: No active exception to reraise"
     ]
    }
   ],
   "source": [
    "antennafield = parse_lba_antennafield('a12-AntennaField.conf', 288)\n",
    "plt.scatter(*antennafield, s=1)\n",
    "plt.xlabel('U')\n",
    "plt.ylabel('V')\n",
    "plt.title('AARTFAAC12 UV Coverage')\n",
    "plt.savefig('a12-coverage.pdf')"
   ]
  },
  {
   "cell_type": "code",
   "execution_count": 4,
   "metadata": {},
   "outputs": [
    {
     "ename": "TypeError",
     "evalue": "_savetxt_dispatcher() missing 1 required positional argument: 'X'",
     "output_type": "error",
     "traceback": [
      "\u001b[0;31m---------------------------------------------------------------------------\u001b[0m",
      "\u001b[0;31mTypeError\u001b[0m                                 Traceback (most recent call last)",
      "\u001b[0;32m<ipython-input-4-16e41651d013>\u001b[0m in \u001b[0;36m<module>\u001b[0;34m\u001b[0m\n\u001b[1;32m      1\u001b[0m \u001b[0;32mimport\u001b[0m \u001b[0mmatplotlib\u001b[0m\u001b[0;34m.\u001b[0m\u001b[0mpyplot\u001b[0m \u001b[0;32mas\u001b[0m \u001b[0mplt\u001b[0m\u001b[0;34m\u001b[0m\u001b[0m\n\u001b[0;32m----> 2\u001b[0;31m \u001b[0mantennafield\u001b[0m \u001b[0;34m=\u001b[0m \u001b[0mparse_lba_antennafield\u001b[0m\u001b[0;34m(\u001b[0m\u001b[0;34m'a6-AntennaField.conf'\u001b[0m\u001b[0;34m,\u001b[0m \u001b[0;36m288\u001b[0m\u001b[0;34m)\u001b[0m\u001b[0;34m\u001b[0m\u001b[0m\n\u001b[0m\u001b[1;32m      3\u001b[0m \u001b[0mplt\u001b[0m\u001b[0;34m.\u001b[0m\u001b[0mscatter\u001b[0m\u001b[0;34m(\u001b[0m\u001b[0;34m*\u001b[0m\u001b[0mantennafield\u001b[0m\u001b[0;34m,\u001b[0m \u001b[0ms\u001b[0m\u001b[0;34m=\u001b[0m\u001b[0;36m1\u001b[0m\u001b[0;34m)\u001b[0m\u001b[0;34m\u001b[0m\u001b[0m\n\u001b[1;32m      4\u001b[0m \u001b[0mplt\u001b[0m\u001b[0;34m.\u001b[0m\u001b[0mxlabel\u001b[0m\u001b[0;34m(\u001b[0m\u001b[0;34m'U'\u001b[0m\u001b[0;34m)\u001b[0m\u001b[0;34m\u001b[0m\u001b[0m\n\u001b[1;32m      5\u001b[0m \u001b[0mplt\u001b[0m\u001b[0;34m.\u001b[0m\u001b[0mylabel\u001b[0m\u001b[0;34m(\u001b[0m\u001b[0;34m'V'\u001b[0m\u001b[0;34m)\u001b[0m\u001b[0;34m\u001b[0m\u001b[0m\n",
      "\u001b[0;32m<ipython-input-3-14ec999e9cf6>\u001b[0m in \u001b[0;36mparse_lba_antennafield\u001b[0;34m(f, subband)\u001b[0m\n\u001b[1;32m     30\u001b[0m     \u001b[0mA\u001b[0m \u001b[0;34m=\u001b[0m \u001b[0mnp\u001b[0m\u001b[0;34m.\u001b[0m\u001b[0marray\u001b[0m\u001b[0;34m(\u001b[0m\u001b[0mpositions\u001b[0m\u001b[0;34m)\u001b[0m\u001b[0;34m\u001b[0m\u001b[0m\n\u001b[1;32m     31\u001b[0m \u001b[0;34m\u001b[0m\u001b[0m\n\u001b[0;32m---> 32\u001b[0;31m     \u001b[0mnp\u001b[0m\u001b[0;34m.\u001b[0m\u001b[0msavetxt\u001b[0m\u001b[0;34m(\u001b[0m\u001b[0;34m'lba_outer_a12.dat'\u001b[0m\u001b[0;34m)\u001b[0m\u001b[0;34m\u001b[0m\u001b[0m\n\u001b[0m\u001b[1;32m     33\u001b[0m \u001b[0;34m\u001b[0m\u001b[0m\n\u001b[1;32m     34\u001b[0m     \u001b[0;32mraise\u001b[0m\u001b[0;34m\u001b[0m\u001b[0m\n",
      "\u001b[0;32m<__array_function__ internals>\u001b[0m in \u001b[0;36msavetxt\u001b[0;34m(*args, **kwargs)\u001b[0m\n",
      "\u001b[0;31mTypeError\u001b[0m: _savetxt_dispatcher() missing 1 required positional argument: 'X'"
     ]
    }
   ],
   "source": [
    "import matplotlib.pyplot as plt\n",
    "antennafield = parse_lba_antennafield('a6-AntennaField.conf', 288)\n",
    "plt.scatter(*antennafield, s=1)\n",
    "plt.xlabel('U')\n",
    "plt.ylabel('V')\n",
    "plt.title('AARTFAAC6 UV Coverage')\n",
    "plt.savefig('a6-coverage.pdf')"
   ]
  },
  {
   "cell_type": "code",
   "execution_count": 103,
   "metadata": {},
   "outputs": [
    {
     "name": "stdout",
     "output_type": "stream",
     "text": [
      "1081992285376802818 1605126360.0 1605126361.006633\n"
     ]
    }
   ],
   "source": [
    "m, t0, t1, s, d, p, c, fl, *_ = parse_vis_hdr(header)"
   ]
  },
  {
   "cell_type": "code",
   "execution_count": 104,
   "metadata": {},
   "outputs": [
    {
     "data": {
      "text/plain": [
       "array([[0., 0., 0., 0., 0.],\n",
       "       [0., 0., 0., 0., 0.]])"
      ]
     },
     "execution_count": 104,
     "metadata": {},
     "output_type": "execute_result"
    }
   ],
   "source": [
    "fl"
   ]
  },
  {
   "cell_type": "code",
   "execution_count": 114,
   "metadata": {},
   "outputs": [],
   "source": [
    "def parse_header(hdr):\n",
    "    \"\"\"\n",
    "    Parse aartfaac header for calibrated data\n",
    "    struct output_header_t\n",
    "    {\n",
    "      uint64_t magic;                   ///< magic to determine header                (  8 B)\n",
    "      double start_time;                ///< start time (unix)                        (  8 B)\n",
    "      double end_time;                  ///< end time (unix)                          (  8 B)\n",
    "      int32_t subband;                  ///< lofar subband                            (  4 B)\n",
    "      int32_t num_dipoles;              ///< number of dipoles (288 or 576)           (  4 B)\n",
    "      int32_t polarization;             ///< XX=0, YY=1                               (  4 B)\n",
    "      int32_t num_channels;             ///< number of channels (<= 64)               (  4 B)\n",
    "      float ateam_flux[5];              ///< Ateam fluxes (CasA, CygA, Tau, Vir, Sun) ( 24 B)\n",
    "      std::bitset<5> ateam;             ///< Ateam active                             (  8 B)\n",
    "      std::bitset<64> flagged_channels; ///< bitset of flagged channels               (  8 B)\n",
    "      std::bitset<576> flagged_dipoles; ///< bitset of flagged dipoles                ( 72 B)\n",
    "      uint32_t weights[78];             ///< stationweights n*(n+1)/2, n in {6, 12}   (312 B)\n",
    "      uint8_t pad[48];                  ///< 512 byte block                           ( 48 B)\n",
    "    };\n",
    "    \"\"\"\n",
    "    m, t0, t1, s, d, p, c = struct.unpack(\"<Qddiiii\", hdr[0:40])\n",
    "    # Flagged dipoles.\n",
    "    f = np.frombuffer(hdr[80:152], dtype=np.uint64)\n",
    "    return (m, t0, t1, s, d, p, c, f)\n"
   ]
  },
  {
   "cell_type": "code",
   "execution_count": 115,
   "metadata": {},
   "outputs": [],
   "source": [
    "m, t0, t1, s, d, p, c, fl = parse_header(header)\n"
   ]
  },
  {
   "cell_type": "code",
   "execution_count": 116,
   "metadata": {},
   "outputs": [],
   "source": [
    "flagged = []\n",
    "for j,v in enumerate(fl):\n",
    "    for k in range(64):\n",
    "        if np.bitwise_and(v, np.uint64(1<<k)):\n",
    "            flagged.append(j*64+k)\n"
   ]
  },
  {
   "cell_type": "code",
   "execution_count": 118,
   "metadata": {},
   "outputs": [
    {
     "data": {
      "text/plain": [
       "108"
      ]
     },
     "execution_count": 118,
     "metadata": {},
     "output_type": "execute_result"
    }
   ],
   "source": [
    "len(flagged)"
   ]
  },
  {
   "cell_type": "code",
   "execution_count": 120,
   "metadata": {},
   "outputs": [],
   "source": [
    "size = os.path.getsize(fvis.name)\n"
   ]
  },
  {
   "cell_type": "code",
   "execution_count": 131,
   "metadata": {},
   "outputs": [],
   "source": [
    "NUM_ANT = 576\n",
    "NUM_BSL = (NUM_ANT ** 2 + NUM_ANT ) // 2\n",
    "LEN_HDR = 512\n",
    "LEN_BDY = NUM_BSL * 8\n",
    "\n",
    "N = size / (LEN_BDY + LEN_HDR)"
   ]
  },
  {
   "cell_type": "code",
   "execution_count": 135,
   "metadata": {},
   "outputs": [
    {
     "data": {
      "text/plain": [
       "5711320064"
      ]
     },
     "execution_count": 135,
     "metadata": {},
     "output_type": "execute_result"
    }
   ],
   "source": [
    "size"
   ]
  },
  {
   "cell_type": "code",
   "execution_count": 136,
   "metadata": {},
   "outputs": [
    {
     "data": {
      "text/plain": [
       "1329408"
      ]
     },
     "execution_count": 136,
     "metadata": {},
     "output_type": "execute_result"
    }
   ],
   "source": [
    "LEN_BDY"
   ]
  },
  {
   "cell_type": "code",
   "execution_count": 133,
   "metadata": {},
   "outputs": [
    {
     "ename": "TypeError",
     "evalue": "'float' object cannot be interpreted as an integer",
     "output_type": "error",
     "traceback": [
      "\u001b[0;31m---------------------------------------------------------------------------\u001b[0m",
      "\u001b[0;31mTypeError\u001b[0m                                 Traceback (most recent call last)",
      "\u001b[0;32m<ipython-input-133-548fdab7cb34>\u001b[0m in \u001b[0;36m<module>\u001b[0;34m\u001b[0m\n\u001b[0;32m----> 1\u001b[0;31m \u001b[0;32mfor\u001b[0m \u001b[0mi\u001b[0m \u001b[0;32min\u001b[0m \u001b[0mrange\u001b[0m\u001b[0;34m(\u001b[0m\u001b[0mN\u001b[0m\u001b[0;34m)\u001b[0m\u001b[0;34m:\u001b[0m\u001b[0;34m\u001b[0m\u001b[0m\n\u001b[0m\u001b[1;32m      2\u001b[0m     \u001b[0;32mpass\u001b[0m\u001b[0;34m\u001b[0m\u001b[0m\n",
      "\u001b[0;31mTypeError\u001b[0m: 'float' object cannot be interpreted as an integer"
     ]
    }
   ],
   "source": [
    "for i in range(N):\n",
    "    pass"
   ]
  },
  {
   "cell_type": "code",
   "execution_count": 134,
   "metadata": {},
   "outputs": [
    {
     "data": {
      "text/plain": [
       "166176"
      ]
     },
     "execution_count": 134,
     "metadata": {},
     "output_type": "execute_result"
    }
   ],
   "source": [
    "NUM_BSL"
   ]
  },
  {
   "cell_type": "code",
   "execution_count": null,
   "metadata": {},
   "outputs": [],
   "source": [
    "(n-1) * (LEN_BDY + LEN_HDR)"
   ]
  },
  {
   "cell_type": "code",
   "execution_count": 181,
   "metadata": {},
   "outputs": [],
   "source": [
    "def align_to_magic(fp):\n",
    "    magic = 0 \n",
    "    stream = [b'\\x00'] * 8\n",
    "    while magic != HDR_MAGIC:\n",
    "        stream.append(fp.read(1))\n",
    "        stream.pop(0)\n",
    "        magic = struct.unpack('Q', b''.join(stream))[0]\n",
    "        print(magic)\n",
    "\n",
    "        break\n",
    "\n",
    "    return fp.tell() - 8\n"
   ]
  },
  {
   "cell_type": "code",
   "execution_count": 182,
   "metadata": {},
   "outputs": [
    {
     "name": "stdout",
     "output_type": "stream",
     "text": [
      "0\n"
     ]
    },
    {
     "data": {
      "text/plain": [
       "7976972"
      ]
     },
     "execution_count": 182,
     "metadata": {},
     "output_type": "execute_result"
    }
   ],
   "source": [
    "align_to_magic(fvis)"
   ]
  },
  {
   "cell_type": "code",
   "execution_count": 139,
   "metadata": {},
   "outputs": [],
   "source": [
    "HDR_MAGIC = 0x4141525446414143"
   ]
  },
  {
   "cell_type": "code",
   "execution_count": 140,
   "metadata": {},
   "outputs": [
    {
     "data": {
      "text/plain": [
       "4702130007860920643"
      ]
     },
     "execution_count": 140,
     "metadata": {},
     "output_type": "execute_result"
    }
   ],
   "source": [
    "HDR_MAGIC"
   ]
  },
  {
   "cell_type": "code",
   "execution_count": null,
   "metadata": {},
   "outputs": [],
   "source": []
  }
 ],
 "metadata": {
  "kernelspec": {
   "display_name": "Python 3",
   "language": "python",
   "name": "python3"
  },
  "language_info": {
   "codemirror_mode": {
    "name": "ipython",
    "version": 3
   },
   "file_extension": ".py",
   "mimetype": "text/x-python",
   "name": "python",
   "nbconvert_exporter": "python",
   "pygments_lexer": "ipython3",
   "version": "3.7.0"
  }
 },
 "nbformat": 4,
 "nbformat_minor": 2
}

{
 "cells": [
  {
   "cell_type": "code",
   "execution_count": 13,
   "metadata": {},
   "outputs": [
    {
     "name": "stdout",
     "output_type": "stream",
     "text": [
      "The autoreload extension is already loaded. To reload it, use:\n",
      "  %reload_ext autoreload\n"
     ]
    }
   ],
   "source": [
    "%load_ext autoreload\n",
    "%autoreload 2\n",
    "\n",
    "import os\n",
    "import numpy as np\n",
    "import struct"
   ]
  },
  {
   "cell_type": "code",
   "execution_count": 10,
   "metadata": {},
   "outputs": [
    {
     "data": {
      "text/plain": [
       "999878658"
      ]
     },
     "execution_count": 10,
     "metadata": {},
     "output_type": "execute_result"
    }
   ],
   "source": [
    "FNAME = '/project/druhe/SB320-202012281240-lba_outer.vis'\n",
    "\n",
    "MAGIC = '0x000000003B98F002'\n",
    "int(MAGIC, 0)"
   ]
  },
  {
   "cell_type": "code",
   "execution_count": 11,
   "metadata": {},
   "outputs": [
    {
     "data": {
      "text/plain": [
       "418"
      ]
     },
     "execution_count": 11,
     "metadata": {},
     "output_type": "execute_result"
    }
   ],
   "source": [
    "NANT = 576\n",
    "SUB = 320\n",
    "NCHAN = 1\n",
    "POL2REC = 4\n",
    "LEN_HDR = 512\n",
    "NBLINE = NANT * (NANT + 1) // 2\n",
    "PAYLOAD = NBLINE * NCHAN * POL2REC * 8\n",
    "RECSIZE = PAYLOAD + LEN_HDR\n",
    "\n",
    "fsize = os.path.getsize(FNAME)\n",
    "nrec = fsize // RECSIZE\n",
    "nrec"
   ]
  },
  {
   "cell_type": "code",
   "execution_count": 14,
   "metadata": {},
   "outputs": [],
   "source": [
    "def read_vis(f):\n",
    "    s = f.read(RECSIZE)\n",
    "\n",
    "#     header = s[:512]\n",
    "    data = s[512:]\n",
    "\n",
    "    magic, = struct.unpack(\"<Q\", s[0:8])\n",
    "    magic = np.uint32(magic)\n",
    "    assert int(magic) == int(MAGIC, 0)\n",
    "\n",
    "    data = np.reshape(np.frombuffer(data, dtype=np.complex64), (NBLINE, NCHAN, POL2REC))\n",
    "    return data"
   ]
  },
  {
   "cell_type": "code",
   "execution_count": 19,
   "metadata": {},
   "outputs": [
    {
     "name": "stdout",
     "output_type": "stream",
     "text": [
      "\u001b[31mERROR: Could not open requirements file: [Errno 2] No such file or directory: 'requirements.txt'\u001b[0m\n",
      "\u001b[33mWARNING: You are using pip version 19.2.3, however version 20.3.3 is available.\n",
      "You should consider upgrading via the 'pip install --upgrade pip' command.\u001b[0m\n"
     ]
    }
   ],
   "source": [
    "!pip install -r requirements.txt"
   ]
  },
  {
   "cell_type": "code",
   "execution_count": 26,
   "metadata": {},
   "outputs": [
    {
     "data": {
      "text/plain": [
       "(166176, 1, 4)"
      ]
     },
     "execution_count": 26,
     "metadata": {},
     "output_type": "execute_result"
    }
   ],
   "source": [
    "# xx, xy, yx, yy\n",
    "with open(FNAME, 'rb') as f:\n",
    "\n",
    "    f.seek(0 * RECSIZE)\n",
    "\n",
    "    vis = read_vis(f)\n",
    "data = vis.copy()\n",
    "data.shape"
   ]
  },
  {
   "cell_type": "code",
   "execution_count": 29,
   "metadata": {},
   "outputs": [],
   "source": [
    "from parse_lba_antennafield import parse_lba_antennafield\n",
    "L = parse_lba_antennafield('../antennafields/a12-AntennaField.conf', [SUB])\n",
    "\n",
    "from scipy.constants import c\n",
    "meters_to_wavelengths = 2 * SUB * 2e8 / (1024 * c)   # frequency over speed is wavelength\n",
    "L_2d = L[:, :2]\n",
    "distances = meters_to_wavelengths * (L_2d[:, None] - L_2d)"
   ]
  },
  {
   "cell_type": "code",
   "execution_count": 32,
   "metadata": {},
   "outputs": [],
   "source": [
    "res = 2300\n",
    "dx = 1.0 / res\n",
    "out_ax = [(dx, res), (dx, res)]\n",
    "\n",
    "L = np.linspace(-1, 1, res)\n",
    "M = np.linspace(-1, 1, res)\n",
    "mask = np.ones((res, res))\n",
    "xv, yv = np.meshgrid(L, M)\n",
    "\n",
    "u, v = distances[np.tril_indices(576)].T"
   ]
  },
  {
   "cell_type": "code",
   "execution_count": 31,
   "metadata": {},
   "outputs": [],
   "source": [
    "image = data.copy()\n",
    "\n",
    "im = image.mean(axis=(-1, -2))"
   ]
  },
  {
   "cell_type": "code",
   "execution_count": 63,
   "metadata": {},
   "outputs": [],
   "source": [
    "def get_beta(W, alpha):\n",
    "\n",
    "    # see Beatty et al. (2005)\n",
    "    beta = np.pi*np.sqrt((W*W/alpha/alpha)*(alpha - 0.5)*(alpha - 0.5) - 0.8)\n",
    "\n",
    "    return beta\n"
   ]
  },
  {
   "cell_type": "code",
   "execution_count": 68,
   "metadata": {},
   "outputs": [],
   "source": [
    "def gcf_kaiser(k, Dk, beta):\n",
    "\n",
    "    temp3 = 2.*k/Dk\n",
    "\n",
    "    if (1 - temp3)*(1 + temp3) < -1e-12:\n",
    "#        print \"There is an issue with the gridding code!\"\n",
    "        raise Exception(\"There is an issue with the gridding code!\")\n",
    "\n",
    "    temp3 = np.sqrt(abs((1 - temp3)*(1 + temp3)))\n",
    "\n",
    "    temp3 = beta*temp3\n",
    "\n",
    "#    cdef double C = (1./Dk)*gsl_sf_bessel_I0(temp3)/gsl_sf_bessel_I0(beta)\n",
    "    C = gsl_sf_bessel_I0(temp3)/gsl_sf_bessel_I0(beta)\n",
    "\n",
    "    return C\n"
   ]
  },
  {
   "cell_type": "code",
   "execution_count": null,
   "metadata": {},
   "outputs": [],
   "source": [
    "import math\n",
    "\n",
    "def grid_1d_from_2d(\n",
    "    x,\n",
    "    vis,\n",
    "    dx,\n",
    "    W,\n",
    "    beta,\n",
    "    y,\n",
    "    x2,\n",
    "    vis2,\n",
    "    y2):\n",
    "\n",
    "        \"\"\"\n",
    "        Grid the data in w, Qvix, Uvis in 1D (x) and duplicate orthogonal axes\n",
    "        \"\"\"\n",
    "        N = len(x)\n",
    "\n",
    "        Dx = W*dx\n",
    "\n",
    "#         cdef Py_ssize_t indx, xndx, kndx\n",
    "\n",
    "#         cdef double xval, yval, xref, xg, gcf_val\n",
    "\n",
    "#         cdef CTYPE_t visval\n",
    "\n",
    "        for indx in range(N):\n",
    "\n",
    "            visval = vis[indx]\n",
    "\n",
    "            xval = x[indx]\n",
    "            yval = y[indx]\n",
    "\n",
    "            xref = math.ceil((xval - 0.5*W*dx)/dx)*dx\n",
    "\n",
    "            for xndx in range(W):\n",
    "\n",
    "                xg = xref + xndx*dx\n",
    "\n",
    "                kndx = indx*W + xndx\n",
    "\n",
    "                gcf_val = gcf_kaiser(xg-xval, Dx, beta)\n",
    "\n",
    "                vis2[kndx] = visval*gcf_val\n",
    "\n",
    "                x2[kndx] = xg\n",
    "                y2[kndx] = yval\n"
   ]
  },
  {
   "cell_type": "code",
   "execution_count": 64,
   "metadata": {},
   "outputs": [],
   "source": [
    "def grid_2d(u, v, vis, du, Nu, umin, dv, Nv, vmin, alpha, W, hflag_u, hflag_v):\n",
    "    nvis = len(u)\n",
    "    \n",
    "    tv1 = np.zeros(W)\n",
    "    tu1 = np.zeros(W)\n",
    "    tvis1 = np.zeros(W)\n",
    "    \n",
    "    beta = get_beta(W, alpha)\n",
    "\n",
    "    for i in range(nvis):\n",
    "        \n",
    "        su = u[i]\n",
    "        sv = v[i]\n",
    "        \n",
    "        svis = vis[i]\n",
    "        \n",
    "        grid_1d_from_2d(su, svis, du, W, beta, sv, tu1, tvis1, tv1)\n",
    "        "
   ]
  },
  {
   "cell_type": "code",
   "execution_count": 65,
   "metadata": {},
   "outputs": [],
   "source": [
    "def pre_grid(out_ax, alpha=1.5):\n",
    "    dx = out_ax[0][0]\n",
    "    Nx = out_ax[0][1]\n",
    "    xmin = 0\n",
    "    du = 1 / dx / Nx / alpha\n",
    "    Nu = int(alpha * Nx)\n",
    "    umin = 0\n",
    "\n",
    "    dy = out_ax[1][0]\n",
    "    Ny = out_ax[1][1]\n",
    "    ymin = 0\n",
    "    dv = 1 / dx / Nx / alpha\n",
    "    Nv = int(alpha * Ny)\n",
    "    vmin = 0\n",
    "    \n",
    "    do_preshift = True\n",
    "    if do_preshift:\n",
    "        vmin = -0.5 * Nv * dv\n",
    "        umin = -0.5 * Nu * du\n",
    "            \n",
    "    do_postshift = True\n",
    "    if do_postshift:\n",
    "        xmin = -0.5 * Nx * dx\n",
    "        ymin = -0.5 * Ny * dy\n",
    "        \n",
    "    print(xmin, ymin, Ny, dy)\n",
    "    \n",
    "    return du, Nu, umin, dv, Nv, vmin\n",
    "        \n",
    "    \n",
    "    "
   ]
  },
  {
   "cell_type": "code",
   "execution_count": 66,
   "metadata": {},
   "outputs": [
    {
     "name": "stdout",
     "output_type": "stream",
     "text": [
      "-0.5 -0.5 2300 0.0004347826086956522\n"
     ]
    }
   ],
   "source": [
    "alpha = 1.5\n",
    "W = 6\n",
    "du, Nu, umin, dv, Nv, vmin = pre_grid(out_ax, alpha)"
   ]
  },
  {
   "cell_type": "code",
   "execution_count": 67,
   "metadata": {},
   "outputs": [
    {
     "name": "stdout",
     "output_type": "stream",
     "text": [
      "12.248183003880952\n"
     ]
    }
   ],
   "source": [
    "grid_2d(u, v, im, du, Nu, umin, dv, Nv, vmin, alpha, W, True, True)"
   ]
  },
  {
   "cell_type": "code",
   "execution_count": null,
   "metadata": {},
   "outputs": [],
   "source": []
  }
 ],
 "metadata": {
  "kernelspec": {
   "display_name": "Python 3",
   "language": "python",
   "name": "python3"
  },
  "language_info": {
   "codemirror_mode": {
    "name": "ipython",
    "version": 3
   },
   "file_extension": ".py",
   "mimetype": "text/x-python",
   "name": "python",
   "nbconvert_exporter": "python",
   "pygments_lexer": "ipython3",
   "version": "3.8.2"
  }
 },
 "nbformat": 4,
 "nbformat_minor": 4
}

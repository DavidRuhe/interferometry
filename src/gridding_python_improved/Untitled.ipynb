{
 "cells": [
  {
   "cell_type": "code",
   "execution_count": 1,
   "metadata": {},
   "outputs": [],
   "source": [
    "%load_ext autoreload\n",
    "%autoreload 2"
   ]
  },
  {
   "cell_type": "code",
   "execution_count": 2,
   "metadata": {},
   "outputs": [],
   "source": [
    "import numpy as np\n",
    "from gridding_python_improved.gridding import gcf_kaiser, gcf_kaiser_improved"
   ]
  },
  {
   "cell_type": "code",
   "execution_count": 3,
   "metadata": {},
   "outputs": [
    {
     "name": "stdout",
     "output_type": "stream",
     "text": [
      "-0.4\n",
      "0.84\n"
     ]
    },
    {
     "data": {
      "text/plain": [
       "0.9996005390997699"
      ]
     },
     "execution_count": 3,
     "metadata": {},
     "output_type": "execute_result"
    }
   ],
   "source": [
    "gcf_kaiser(-1, 5, 0.1)"
   ]
  },
  {
   "cell_type": "code",
   "execution_count": 4,
   "metadata": {},
   "outputs": [],
   "source": [
    "k = np.array([-1]).repeat(2)\n",
    "Dk = np.array([5]).repeat(2)\n",
    "beta = np.array(0.1).repeat(2)"
   ]
  },
  {
   "cell_type": "code",
   "execution_count": 5,
   "metadata": {},
   "outputs": [
    {
     "data": {
      "text/plain": [
       "array([0.99960054, 0.99960054])"
      ]
     },
     "execution_count": 5,
     "metadata": {},
     "output_type": "execute_result"
    }
   ],
   "source": [
    "gcf_kaiser_improved(k, Dk, beta)"
   ]
  },
  {
   "cell_type": "code",
   "execution_count": 112,
   "metadata": {},
   "outputs": [],
   "source": [
    "from gridding_python_improved.gridding import grid_1d_from_2d, grid_1d_from_2di"
   ]
  },
  {
   "cell_type": "code",
   "execution_count": 240,
   "metadata": {},
   "outputs": [],
   "source": [
    "x = np.random.randn(1)\n",
    "vis = np.random.randn(1) + np.random.randn(1) * 1j\n",
    "dx = 2/3\n",
    "W = 6\n",
    "beta = 12.24\n",
    "y = np.random.randn(1)\n",
    "x2 = np.zeros(6, dtype=complex)\n",
    "vis2 = np.zeros(6, dtype=complex)\n",
    "y2 = np.zeros(6, dtype=complex)\n",
    "grid_1d_from_2d(x, vis, dx, W, beta, y, x2, vis2, y2)"
   ]
  },
  {
   "cell_type": "code",
   "execution_count": 241,
   "metadata": {},
   "outputs": [
    {
     "data": {
      "text/plain": [
       "array([-2.        +0.j, -1.33333333+0.j, -0.66666667+0.j,  0.        +0.j,\n",
       "        0.66666667+0.j,  1.33333333+0.j])"
      ]
     },
     "execution_count": 241,
     "metadata": {},
     "output_type": "execute_result"
    }
   ],
   "source": [
    "x2"
   ]
  },
  {
   "cell_type": "code",
   "execution_count": 242,
   "metadata": {},
   "outputs": [
    {
     "data": {
      "text/plain": [
       "array([-1.30259018+0.j, -1.30259018+0.j, -1.30259018+0.j, -1.30259018+0.j,\n",
       "       -1.30259018+0.j, -1.30259018+0.j])"
      ]
     },
     "execution_count": 242,
     "metadata": {},
     "output_type": "execute_result"
    }
   ],
   "source": [
    "y2"
   ]
  },
  {
   "cell_type": "code",
   "execution_count": 243,
   "metadata": {},
   "outputs": [
    {
     "data": {
      "text/plain": [
       "array([0.00793113-0.00625864j, 0.16792404-0.13251271j,\n",
       "       0.51826413-0.40897411j, 0.40858274-0.32242201j,\n",
       "       0.0748479 -0.0590642j , 0.00099494-0.00078513j])"
      ]
     },
     "execution_count": 243,
     "metadata": {},
     "output_type": "execute_result"
    }
   ],
   "source": [
    "vis2"
   ]
  },
  {
   "cell_type": "code",
   "execution_count": 244,
   "metadata": {},
   "outputs": [
    {
     "name": "stdout",
     "output_type": "stream",
     "text": [
      "(32,)\n",
      "(32,)\n"
     ]
    }
   ],
   "source": [
    "x = x.repeat(32)\n",
    "vis = vis.repeat(32)\n",
    "y = y.repeat(32)\n",
    "dx = 2/3\n",
    "W = 6\n",
    "beta = 12.24\n",
    "# y = np.random.randn(5)\n",
    "x2 = np.zeros(6, dtype=complex)\n",
    "vis2 = np.zeros(6, dtype=complex)\n",
    "y2 = np.zeros(6, dtype=complex)\n",
    "x2, y2, vis2 = grid_1d_from_2di(x, vis, dx, W, beta, y, x2, vis2, y2)"
   ]
  },
  {
   "cell_type": "code",
   "execution_count": 245,
   "metadata": {},
   "outputs": [
    {
     "data": {
      "text/plain": [
       "(32, 6)"
      ]
     },
     "execution_count": 245,
     "metadata": {},
     "output_type": "execute_result"
    }
   ],
   "source": [
    "x2.shape"
   ]
  },
  {
   "cell_type": "code",
   "execution_count": 248,
   "metadata": {},
   "outputs": [
    {
     "data": {
      "text/plain": [
       "array([ True,  True,  True,  True,  True,  True])"
      ]
     },
     "execution_count": 248,
     "metadata": {},
     "output_type": "execute_result"
    }
   ],
   "source": [
    "x2[0] == x2[-1]"
   ]
  },
  {
   "cell_type": "code",
   "execution_count": 249,
   "metadata": {},
   "outputs": [
    {
     "data": {
      "text/plain": [
       "array([ True,  True,  True,  True,  True,  True])"
      ]
     },
     "execution_count": 249,
     "metadata": {},
     "output_type": "execute_result"
    }
   ],
   "source": [
    "y2[0] == y2[-1]"
   ]
  },
  {
   "cell_type": "code",
   "execution_count": 250,
   "metadata": {},
   "outputs": [
    {
     "data": {
      "text/plain": [
       "array([ True,  True,  True,  True,  True,  True])"
      ]
     },
     "execution_count": 250,
     "metadata": {},
     "output_type": "execute_result"
    }
   ],
   "source": [
    "vis2[0] == vis2[-1]"
   ]
  },
  {
   "cell_type": "code",
   "execution_count": 253,
   "metadata": {},
   "outputs": [
    {
     "data": {
      "text/plain": [
       "array([-2.        +0.j, -1.33333333+0.j, -0.66666667+0.j,  0.        +0.j,\n",
       "        0.66666667+0.j,  1.33333333+0.j])"
      ]
     },
     "execution_count": 253,
     "metadata": {},
     "output_type": "execute_result"
    }
   ],
   "source": [
    "x2[0]"
   ]
  },
  {
   "cell_type": "code",
   "execution_count": 254,
   "metadata": {},
   "outputs": [
    {
     "data": {
      "text/plain": [
       "(array([ True,  True,  True,  True,  True,  True]),\n",
       " array([-2.        +0.j, -1.33333333+0.j, -0.66666667+0.j,  0.        +0.j,\n",
       "         0.66666667+0.j,  1.33333333+0.j]))"
      ]
     },
     "execution_count": 254,
     "metadata": {},
     "output_type": "execute_result"
    }
   ],
   "source": [
    "x2[0] == x2[-1], x2[0]"
   ]
  },
  {
   "cell_type": "code",
   "execution_count": 255,
   "metadata": {},
   "outputs": [
    {
     "data": {
      "text/plain": [
       "(32, 6)"
      ]
     },
     "execution_count": 255,
     "metadata": {},
     "output_type": "execute_result"
    }
   ],
   "source": [
    "y2.shape"
   ]
  },
  {
   "cell_type": "code",
   "execution_count": 256,
   "metadata": {},
   "outputs": [
    {
     "data": {
      "text/plain": [
       "(array([ True,  True,  True,  True,  True,  True]),\n",
       " array([-1.30259018, -1.30259018, -1.30259018, -1.30259018, -1.30259018,\n",
       "        -1.30259018]))"
      ]
     },
     "execution_count": 256,
     "metadata": {},
     "output_type": "execute_result"
    }
   ],
   "source": [
    "y2[0] == y2[-1], y2[0]"
   ]
  },
  {
   "cell_type": "code",
   "execution_count": 336,
   "metadata": {},
   "outputs": [],
   "source": [
    "from gridding_python_improved.gridding import grid_2di, grid_2d"
   ]
  },
  {
   "cell_type": "code",
   "execution_count": 308,
   "metadata": {},
   "outputs": [],
   "source": [
    "u = np.random.randn(8)\n",
    "v = np.random.randn(8)\n",
    "vis = np.random.randn(8) * np.random.randn(8) * 1j\n",
    "du = 2/3\n",
    "Nu = 3450\n",
    "umin=-1150\n",
    "dv = 2/3\n",
    "Nv = 3450\n",
    "umin=-1150\n",
    "alpha = 1.5\n",
    "W = 6\n",
    "hflag_u = True\n",
    "hflag_v = True\n"
   ]
  },
  {
   "cell_type": "code",
   "execution_count": 309,
   "metadata": {},
   "outputs": [
    {
     "data": {
      "text/plain": [
       "0.4674200641208046"
      ]
     },
     "execution_count": 309,
     "metadata": {},
     "output_type": "execute_result"
    }
   ],
   "source": [
    "u.sum()"
   ]
  },
  {
   "cell_type": "code",
   "execution_count": 310,
   "metadata": {},
   "outputs": [
    {
     "name": "stdout",
     "output_type": "stream",
     "text": [
      "10.623236362617092 0.6670597363998705j 1.9999999999999998\n",
      "-7.153652793103089 0.002289604713318762j 10.0\n",
      "-1.424968855264478 2.218611876074446j 1.9999999999999998\n",
      "2.5606782204713756 -0.010274610216251041j -2.0000000000000004\n",
      "4.468718785799142 -3.247140385330955j 1.9999999999999998\n",
      "-8.655918631662662 -2.978117486745186j 1.9999999999999998\n",
      "-12.984581719625405 1.349820225121312j -9.999999999999998\n",
      "-4.9748438017730345 0.4209777120841703j -2.0000000000000004\n",
      "-4.9748438017730345 0.4209777120841703j -2.0000000000000004\n"
     ]
    },
    {
     "data": {
      "text/plain": [
       "(array([0., 0., 0., 0., 0., 0., 0., 0., 0., 0., 0., 0., 0., 0., 0., 0., 0.,\n",
       "        0., 0., 0., 0., 0., 0., 0., 0., 0., 0., 0., 0., 0., 0., 0., 0., 0.,\n",
       "        0., 0., 0., 0., 0., 0., 0., 0., 0., 0., 0., 0., 0., 0., 0., 0., 0.,\n",
       "        0., 0., 0., 0., 0., 0., 0., 0., 0., 0., 0., 0., 0., 0., 0., 0., 0.,\n",
       "        0., 0., 0., 0., 0., 0., 0., 0., 0., 0., 0., 0., 0., 0., 0., 0., 0.,\n",
       "        0., 0., 0., 0., 0., 0., 0., 0., 0., 0., 0., 0., 0., 0., 0., 0., 0.,\n",
       "        0., 0., 0., 0., 0., 0., 0., 0., 0., 0., 0., 0., 0., 0., 0., 0., 0.,\n",
       "        0., 0., 0., 0., 0., 0., 0., 0., 0., 0., 0., 0., 0., 0., 0., 0., 0.,\n",
       "        0., 0., 0., 0., 0., 0., 0., 0., 0., 0., 0., 0., 0., 0., 0., 0., 0.,\n",
       "        0., 0., 0., 0., 0., 0., 0., 0., 0., 0., 0., 0., 0., 0., 0., 0., 0.,\n",
       "        0., 0., 0., 0., 0., 0., 0., 0., 0., 0., 0., 0., 0., 0., 0., 0., 0.,\n",
       "        0., 0., 0., 0., 0., 0., 0., 0., 0., 0., 0., 0., 0., 0., 0., 0., 0.,\n",
       "        0., 0., 0., 0., 0., 0., 0., 0., 0., 0., 0., 0., 0., 0., 0., 0., 0.,\n",
       "        0., 0., 0., 0., 0., 0., 0., 0., 0., 0., 0., 0., 0., 0., 0., 0., 0.,\n",
       "        0., 0., 0., 0., 0., 0., 0., 0., 0., 0., 0., 0., 0., 0., 0., 0., 0.,\n",
       "        0., 0., 0., 0., 0., 0., 0., 0., 0., 0., 0., 0., 0., 0., 0., 0., 0.,\n",
       "        0., 0., 0., 0., 0., 0., 0., 0., 0., 0., 0., 0., 0., 0., 0., 0.]),\n",
       " array([0., 0., 0., 0., 0., 0., 0., 0., 0., 0., 0., 0., 0., 0., 0., 0., 0.,\n",
       "        0., 0., 0., 0., 0., 0., 0., 0., 0., 0., 0., 0., 0., 0., 0., 0., 0.,\n",
       "        0., 0., 0., 0., 0., 0., 0., 0., 0., 0., 0., 0., 0., 0., 0., 0., 0.,\n",
       "        0., 0., 0., 0., 0., 0., 0., 0., 0., 0., 0., 0., 0., 0., 0., 0., 0.,\n",
       "        0., 0., 0., 0., 0., 0., 0., 0., 0., 0., 0., 0., 0., 0., 0., 0., 0.,\n",
       "        0., 0., 0., 0., 0., 0., 0., 0., 0., 0., 0., 0., 0., 0., 0., 0., 0.,\n",
       "        0., 0., 0., 0., 0., 0., 0., 0., 0., 0., 0., 0., 0., 0., 0., 0., 0.,\n",
       "        0., 0., 0., 0., 0., 0., 0., 0., 0., 0., 0., 0., 0., 0., 0., 0., 0.,\n",
       "        0., 0., 0., 0., 0., 0., 0., 0., 0., 0., 0., 0., 0., 0., 0., 0., 0.,\n",
       "        0., 0., 0., 0., 0., 0., 0., 0., 0., 0., 0., 0., 0., 0., 0., 0., 0.,\n",
       "        0., 0., 0., 0., 0., 0., 0., 0., 0., 0., 0., 0., 0., 0., 0., 0., 0.,\n",
       "        0., 0., 0., 0., 0., 0., 0., 0., 0., 0., 0., 0., 0., 0., 0., 0., 0.,\n",
       "        0., 0., 0., 0., 0., 0., 0., 0., 0., 0., 0., 0., 0., 0., 0., 0., 0.,\n",
       "        0., 0., 0., 0., 0., 0., 0., 0., 0., 0., 0., 0., 0., 0., 0., 0., 0.,\n",
       "        0., 0., 0., 0., 0., 0., 0., 0., 0., 0., 0., 0., 0., 0., 0., 0., 0.,\n",
       "        0., 0., 0., 0., 0., 0., 0., 0., 0., 0., 0., 0., 0., 0., 0., 0., 0.,\n",
       "        0., 0., 0., 0., 0., 0., 0., 0., 0., 0., 0., 0., 0., 0., 0., 0.]),\n",
       " array([0.+0.j, 0.+0.j, 0.+0.j, 0.+0.j, 0.+0.j, 0.+0.j, 0.+0.j, 0.+0.j,\n",
       "        0.+0.j, 0.+0.j, 0.+0.j, 0.+0.j, 0.+0.j, 0.+0.j, 0.+0.j, 0.+0.j,\n",
       "        0.+0.j, 0.+0.j, 0.+0.j, 0.+0.j, 0.+0.j, 0.+0.j, 0.+0.j, 0.+0.j,\n",
       "        0.+0.j, 0.+0.j, 0.+0.j, 0.+0.j, 0.+0.j, 0.+0.j, 0.+0.j, 0.+0.j,\n",
       "        0.+0.j, 0.+0.j, 0.+0.j, 0.+0.j, 0.+0.j, 0.+0.j, 0.+0.j, 0.+0.j,\n",
       "        0.+0.j, 0.+0.j, 0.+0.j, 0.+0.j, 0.+0.j, 0.+0.j, 0.+0.j, 0.+0.j,\n",
       "        0.+0.j, 0.+0.j, 0.+0.j, 0.+0.j, 0.+0.j, 0.+0.j, 0.+0.j, 0.+0.j,\n",
       "        0.+0.j, 0.+0.j, 0.+0.j, 0.+0.j, 0.+0.j, 0.+0.j, 0.+0.j, 0.+0.j,\n",
       "        0.+0.j, 0.+0.j, 0.+0.j, 0.+0.j, 0.+0.j, 0.+0.j, 0.+0.j, 0.+0.j,\n",
       "        0.+0.j, 0.+0.j, 0.+0.j, 0.+0.j, 0.+0.j, 0.+0.j, 0.+0.j, 0.+0.j,\n",
       "        0.+0.j, 0.+0.j, 0.+0.j, 0.+0.j, 0.+0.j, 0.+0.j, 0.+0.j, 0.+0.j,\n",
       "        0.+0.j, 0.+0.j, 0.+0.j, 0.+0.j, 0.+0.j, 0.+0.j, 0.+0.j, 0.+0.j,\n",
       "        0.+0.j, 0.+0.j, 0.+0.j, 0.+0.j, 0.+0.j, 0.+0.j, 0.+0.j, 0.+0.j,\n",
       "        0.+0.j, 0.+0.j, 0.+0.j, 0.+0.j, 0.+0.j, 0.+0.j, 0.+0.j, 0.+0.j,\n",
       "        0.+0.j, 0.+0.j, 0.+0.j, 0.+0.j, 0.+0.j, 0.+0.j, 0.+0.j, 0.+0.j,\n",
       "        0.+0.j, 0.+0.j, 0.+0.j, 0.+0.j, 0.+0.j, 0.+0.j, 0.+0.j, 0.+0.j,\n",
       "        0.+0.j, 0.+0.j, 0.+0.j, 0.+0.j, 0.+0.j, 0.+0.j, 0.+0.j, 0.+0.j,\n",
       "        0.+0.j, 0.+0.j, 0.+0.j, 0.+0.j, 0.+0.j, 0.+0.j, 0.+0.j, 0.+0.j,\n",
       "        0.+0.j, 0.+0.j, 0.+0.j, 0.+0.j, 0.+0.j, 0.+0.j, 0.+0.j, 0.+0.j,\n",
       "        0.+0.j, 0.+0.j, 0.+0.j, 0.+0.j, 0.+0.j, 0.+0.j, 0.+0.j, 0.+0.j,\n",
       "        0.+0.j, 0.+0.j, 0.+0.j, 0.+0.j, 0.+0.j, 0.+0.j, 0.+0.j, 0.+0.j,\n",
       "        0.+0.j, 0.+0.j, 0.+0.j, 0.+0.j, 0.+0.j, 0.+0.j, 0.+0.j, 0.+0.j,\n",
       "        0.+0.j, 0.+0.j, 0.+0.j, 0.+0.j, 0.+0.j, 0.+0.j, 0.+0.j, 0.+0.j,\n",
       "        0.+0.j, 0.+0.j, 0.+0.j, 0.+0.j, 0.+0.j, 0.+0.j, 0.+0.j, 0.+0.j,\n",
       "        0.+0.j, 0.+0.j, 0.+0.j, 0.+0.j, 0.+0.j, 0.+0.j, 0.+0.j, 0.+0.j,\n",
       "        0.+0.j, 0.+0.j, 0.+0.j, 0.+0.j, 0.+0.j, 0.+0.j, 0.+0.j, 0.+0.j,\n",
       "        0.+0.j, 0.+0.j, 0.+0.j, 0.+0.j, 0.+0.j, 0.+0.j, 0.+0.j, 0.+0.j,\n",
       "        0.+0.j, 0.+0.j, 0.+0.j, 0.+0.j, 0.+0.j, 0.+0.j, 0.+0.j, 0.+0.j,\n",
       "        0.+0.j, 0.+0.j, 0.+0.j, 0.+0.j, 0.+0.j, 0.+0.j, 0.+0.j, 0.+0.j,\n",
       "        0.+0.j, 0.+0.j, 0.+0.j, 0.+0.j, 0.+0.j, 0.+0.j, 0.+0.j, 0.+0.j,\n",
       "        0.+0.j, 0.+0.j, 0.+0.j, 0.+0.j, 0.+0.j, 0.+0.j, 0.+0.j, 0.+0.j,\n",
       "        0.+0.j, 0.+0.j, 0.+0.j, 0.+0.j, 0.+0.j, 0.+0.j, 0.+0.j, 0.+0.j,\n",
       "        0.+0.j, 0.+0.j, 0.+0.j, 0.+0.j, 0.+0.j, 0.+0.j, 0.+0.j, 0.+0.j,\n",
       "        0.+0.j, 0.+0.j, 0.+0.j, 0.+0.j, 0.+0.j, 0.+0.j, 0.+0.j, 0.+0.j,\n",
       "        0.+0.j, 0.+0.j, 0.+0.j, 0.+0.j, 0.+0.j, 0.+0.j, 0.+0.j, 0.+0.j,\n",
       "        0.+0.j, 0.+0.j, 0.+0.j, 0.+0.j, 0.+0.j, 0.+0.j, 0.+0.j, 0.+0.j]))"
      ]
     },
     "execution_count": 310,
     "metadata": {},
     "output_type": "execute_result"
    }
   ],
   "source": [
    "grid_2d(u, v, vis, du, Nu, umin, dv, Nv, vmin, alpha, W, hflag_u, hflag_v)"
   ]
  },
  {
   "cell_type": "code",
   "execution_count": 311,
   "metadata": {},
   "outputs": [
    {
     "name": "stdout",
     "output_type": "stream",
     "text": [
      "-1.5767733278992746j -17.541332432541058 (3.9999999999999982+0j)\n"
     ]
    },
    {
     "ename": "RuntimeError",
     "evalue": "No active exception to reraise",
     "output_type": "error",
     "traceback": [
      "\u001b[0;31m---------------------------------------------------------------------------\u001b[0m",
      "\u001b[0;31mRuntimeError\u001b[0m                              Traceback (most recent call last)",
      "\u001b[0;32m<ipython-input-311-1b648613fd8f>\u001b[0m in \u001b[0;36m<module>\u001b[0;34m\u001b[0m\n\u001b[0;32m----> 1\u001b[0;31m \u001b[0mgrid_2di\u001b[0m\u001b[0;34m(\u001b[0m\u001b[0mu\u001b[0m\u001b[0;34m,\u001b[0m \u001b[0mv\u001b[0m\u001b[0;34m,\u001b[0m \u001b[0mvis\u001b[0m\u001b[0;34m,\u001b[0m \u001b[0mdu\u001b[0m\u001b[0;34m,\u001b[0m \u001b[0mNu\u001b[0m\u001b[0;34m,\u001b[0m \u001b[0mumin\u001b[0m\u001b[0;34m,\u001b[0m \u001b[0mdv\u001b[0m\u001b[0;34m,\u001b[0m \u001b[0mNv\u001b[0m\u001b[0;34m,\u001b[0m \u001b[0mvmin\u001b[0m\u001b[0;34m,\u001b[0m \u001b[0malpha\u001b[0m\u001b[0;34m,\u001b[0m \u001b[0mW\u001b[0m\u001b[0;34m,\u001b[0m \u001b[0mhflag_u\u001b[0m\u001b[0;34m,\u001b[0m \u001b[0mhflag_v\u001b[0m\u001b[0;34m)\u001b[0m\u001b[0;34m\u001b[0m\u001b[0;34m\u001b[0m\u001b[0m\n\u001b[0m",
      "\u001b[0;32m~/projects/interferometry/src/gridding_python_improved/gridding.py\u001b[0m in \u001b[0;36mgrid_2di\u001b[0;34m(u, v, vis, du, Nu, umin, dv, Nv, vmin, alpha, W, hflag_u, hflag_v)\u001b[0m\n\u001b[1;32m    177\u001b[0m         \u001b[0mtu1\u001b[0m\u001b[0;34m,\u001b[0m \u001b[0mtvis1\u001b[0m\u001b[0;34m,\u001b[0m \u001b[0mtv1\u001b[0m \u001b[0;34m=\u001b[0m \u001b[0mgrid_1d_from_2di\u001b[0m\u001b[0;34m(\u001b[0m\u001b[0mu\u001b[0m\u001b[0;34m,\u001b[0m \u001b[0mvis\u001b[0m\u001b[0;34m,\u001b[0m \u001b[0mdu\u001b[0m\u001b[0;34m,\u001b[0m \u001b[0mW\u001b[0m\u001b[0;34m,\u001b[0m \u001b[0mbeta\u001b[0m\u001b[0;34m,\u001b[0m \u001b[0mv\u001b[0m\u001b[0;34m,\u001b[0m \u001b[0mtu1\u001b[0m\u001b[0;34m,\u001b[0m \u001b[0mtvis1\u001b[0m\u001b[0;34m,\u001b[0m \u001b[0mtv1\u001b[0m\u001b[0;34m)\u001b[0m\u001b[0;34m\u001b[0m\u001b[0;34m\u001b[0m\u001b[0m\n\u001b[1;32m    178\u001b[0m         \u001b[0mprint\u001b[0m\u001b[0;34m(\u001b[0m\u001b[0mtv1\u001b[0m\u001b[0;34m.\u001b[0m\u001b[0msum\u001b[0m\u001b[0;34m(\u001b[0m\u001b[0;34m)\u001b[0m\u001b[0;34m,\u001b[0m \u001b[0mtvis1\u001b[0m\u001b[0;34m.\u001b[0m\u001b[0msum\u001b[0m\u001b[0;34m(\u001b[0m\u001b[0;34m)\u001b[0m\u001b[0;34m,\u001b[0m \u001b[0mtu1\u001b[0m\u001b[0;34m.\u001b[0m\u001b[0msum\u001b[0m\u001b[0;34m(\u001b[0m\u001b[0;34m)\u001b[0m\u001b[0;34m)\u001b[0m\u001b[0;34m\u001b[0m\u001b[0;34m\u001b[0m\u001b[0m\n\u001b[0;32m--> 179\u001b[0;31m         \u001b[0;32mraise\u001b[0m\u001b[0;34m\u001b[0m\u001b[0;34m\u001b[0m\u001b[0m\n\u001b[0m\u001b[1;32m    180\u001b[0m \u001b[0;34m\u001b[0m\u001b[0m\n\u001b[1;32m    181\u001b[0m \u001b[0;34m\u001b[0m\u001b[0m\n",
      "\u001b[0;31mRuntimeError\u001b[0m: No active exception to reraise"
     ]
    }
   ],
   "source": [
    "grid_2di(u, v, vis, du, Nu, umin, dv, Nv, vmin, alpha, W, hflag_u, hflag_v)"
   ]
  },
  {
   "cell_type": "code",
   "execution_count": 443,
   "metadata": {},
   "outputs": [],
   "source": [
    "def grid_1d_from_2d(x, vis, dx, W, beta, y, x2, vis2, y2):\n",
    "    \"\"\"\n",
    "    Grid the data in w, Qvix, Uvis in 1D (x) and duplicate orthogonal axes\n",
    "    \"\"\"\n",
    "    N = len(x)\n",
    "\n",
    "    Dx = W*dx\n",
    "    \n",
    "    for indx in range(N):\n",
    "\n",
    "        visval = vis[indx]\n",
    "\n",
    "        xval = x[indx]\n",
    "        yval = y[indx]\n",
    "        \n",
    "        xref = np.ceil((xval - 0.5*W*dx)/dx)*dx\n",
    "\n",
    "        for xndx in range(W):\n",
    "            \n",
    "            xg = xref + xndx*dx\n",
    "            \n",
    "            kndx = indx*W + xndx\n",
    "            \n",
    "            gcf_val = gcf_kaiser(xg-xval, Dx, beta)\n",
    "            \n",
    "            \n",
    "            vis2[kndx] = visval*gcf_val\n",
    "\n",
    "            x2[kndx] = xg\n",
    "            y2[kndx] = yval\n"
   ]
  },
  {
   "cell_type": "code",
   "execution_count": 604,
   "metadata": {},
   "outputs": [],
   "source": [
    "def grid_1d_from_2di(x, vis, dx, W, beta, y, x2, vis2, y2):\n",
    "#     Dx = W*dx\n",
    "#     visval = vis\n",
    "\n",
    "#     xval = x\n",
    "#     xref = np.ceil((xval - 0.5*W*dx)/dx)*dx\n",
    "    \n",
    "#     xg = xref[:, None] + np.arange(W) * dx\n",
    "    \n",
    "#     gcf_val = gcf_kaiser_improved(xg - xval[:, None], Dx, beta)\n",
    "#     vis2 = visval[:, None] * gcf_val\n",
    "#     x2 = xg\n",
    "#     y2 = np.tile(y[:, None], (1, W))\n",
    "    \n",
    "#     return x2, vis2, y2\n",
    "\n",
    "    N = len(x)\n",
    "    Dx = W * dx\n",
    "    \n",
    "    for indx in range(N):\n",
    "        visval = vis[indx]\n",
    "        \n",
    "        xval = x[indx]\n",
    "        yval = y[indx]\n",
    "                \n",
    "        xref = np.ceil((xval - 0.5*W*dx)/dx)*dx\n",
    "                \n",
    "        xndx = np.arange(W)\n",
    "        \n",
    "                \n",
    "        xg = xref + xndx * dx\n",
    "        \n",
    "#         print(xg)\n",
    "        \n",
    "        kndx = indx * W + xndx\n",
    "                        \n",
    "        gcf_val = gcf_kaiser_improved(xg - xval, Dx, beta)\n",
    "#         print(visval)\n",
    "#         print(gcf_val)\n",
    "#         print(vis2[kndx])\n",
    "        vis2[kndx] = visval * gcf_val\n",
    "#         print(visval * gcf_val)\n",
    "        \n",
    "#         print('\\n')\n",
    "\n",
    "    \n",
    "#         print(vis2[kndx])\n",
    "#         print(vis2[kndx])\n",
    "        x2[kndx] = xg\n",
    "        y2[kndx] = yval\n",
    "        \n",
    "    indx = np.arange(N)\n",
    "    visval = vis[indx]\n",
    "    xval = x[indx]\n",
    "    yval = y[indx]\n",
    "\n",
    "    xref = np.ceil((xval - 0.5*W*dx)/dx)*dx\n",
    "    \n",
    "    xndx = np.tile(np.arange(W)[None], (N, 1))\n",
    "        \n",
    "    xg = xref + xndx * dx\n",
    "            \n",
    "    kndx = np.arange(N * W).reshape(N, W)\n",
    "    gcf_val = gcf_kaiser_improved(xg - xval, Dx, beta)\n",
    "    \n",
    "#     print(visval)\n",
    "#     print(gcf_val[0])\n",
    "#     print(np.outer(visval, gcf_val[0]))\n",
    "    vis2[kndx] = np.outer(visval, gcf_val[0])\n",
    "#     print(gcf_val)\n",
    "#     print(visval)\n",
    "#     print('\\n')\n",
    "\n",
    "#     print(gcf_val)\n",
    "#     print('\\n')\n",
    "    \n",
    "#     print(visval[None] * gcf_val)\n",
    "#     print(visval * gcf_val)\n",
    "#     vis2[kndx] = visval * gcf_val\n",
    "#     print(vis2[kndx])\n",
    "    x2[kndx] = xg\n",
    "    y2[kndx] = yval\n",
    "\n",
    "    return x2, vis2, y2\n",
    "\n",
    "        "
   ]
  },
  {
   "cell_type": "code",
   "execution_count": 608,
   "metadata": {},
   "outputs": [
    {
     "name": "stdout",
     "output_type": "stream",
     "text": [
      "2.3609519701766692j\n",
      "-2.0000000000000004\n",
      "3.6139131906290456\n",
      "5.020889170727523j\n",
      "-12.000000000000007\n",
      "12.0\n",
      "\n",
      "\n",
      "2.3609519701766692j\n",
      "-2.0000000000000004\n",
      "3.6139131906290456\n",
      "5.020889170727523j\n",
      "-12.000000000000004\n",
      "12.0\n",
      "-1.2269784131548596j\n",
      "-2.0000000000000004\n",
      "-0.9355439111700462\n",
      "-2.6093119756832692j\n",
      "-12.000000000000007\n",
      "-12.000000000000004\n",
      "\n",
      "\n",
      "-1.2269784131548596j\n",
      "-2.0000000000000004\n",
      "-0.9355439111700462\n",
      "-2.6093119756832692j\n",
      "-12.000000000000004\n",
      "-12.000000000000004\n",
      "0.07502069982979263j\n",
      "1.9999999999999998\n",
      "-7.738774404025948\n",
      "0.15954131166464033j\n",
      "12.0\n",
      "-36.0\n",
      "\n",
      "\n",
      "0.07502069982979263j\n",
      "1.9999999999999998\n",
      "-7.738774404025948\n",
      "0.15954131166464033j\n",
      "12.0\n",
      "-36.0\n",
      "-0.27722034862503475j\n",
      "1.9999999999999998\n",
      "6.572617402685415\n",
      "-0.589531124766075j\n",
      "12.0\n",
      "36.0\n",
      "\n",
      "\n",
      "-0.27722034862503475j\n",
      "1.9999999999999998\n",
      "6.572617402685415\n",
      "-0.589531124766075j\n",
      "12.0\n",
      "36.0\n"
     ]
    }
   ],
   "source": [
    "nvis = 4\n",
    "u = np.random.randn(nvis)\n",
    "v = np.random.randn(nvis)\n",
    "vis = np.random.randn(nvis) * np.random.randn(nvis) * 1j\n",
    "du = 2/3\n",
    "Nu = 3450\n",
    "umin=-1150\n",
    "dv = 2/3\n",
    "Nv = 3450\n",
    "umin=-1150\n",
    "alpha = 1.5\n",
    "W = 6\n",
    "hflag_u = True\n",
    "hflag_v = True\n",
    "\n",
    "tu1 = np.zeros(W)\n",
    "tvis1 = np.zeros(W, dtype=complex)\n",
    "tv1 = np.zeros(W)\n",
    "\n",
    "\n",
    "tu1i = np.zeros(W)\n",
    "tvis1i = np.zeros(W, dtype=complex)\n",
    "tv1i = np.zeros(W)\n",
    "\n",
    "su = np.zeros(1)\n",
    "sv = np.zeros(1)\n",
    "svis = np.zeros(1, dtype=complex)\n",
    "\n",
    "tu2 = np.zeros(W2)\n",
    "tvis2 = np.zeros(W2, dtype=complex)\n",
    "tv2 = np.zeros(W2)\n",
    "\n",
    "tu2i = np.zeros(W2)\n",
    "tvis2i = np.zeros(W2, dtype=complex)\n",
    "tv2i = np.zeros(W2)\n",
    "\n",
    "W2 = W**2\n",
    "nvis = u.shape[0]\n",
    "\n",
    "for i in range(nvis):\n",
    "    su[0] = u[i]\n",
    "    sv[0] = v[i]\n",
    "    svis[0] = vis[i]\n",
    "    grid_1d_from_2d(su, svis, du, W, beta, sv, tu1, tvis1, tv1)\n",
    "    \n",
    "    grid_1d_from_2d(tv1, tvis1, dv, W, beta, tu1, tv2, tvis2, tu2) # output arrays\n",
    "\n",
    "    tu1i, tvis1i, tv1i = grid_1d_from_2di(su, svis, du, W, beta, sv, tu1i, tvis1i, tv1i)\n",
    "    \n",
    "    tv2i, tvis2i, tu2i = grid_1d_from_2di(tv1i, tvis1i, dv, W, beta, tu1i, tv2i, tvis2i, tu2i) # output arrays\n",
    "\n",
    "\n",
    "    print(tvis1.sum())\n",
    "    print(tu1.sum())\n",
    "    print(tv1.sum())\n",
    "    \n",
    "    print(tvis2.sum())\n",
    "    print(tu2.sum())\n",
    "    print(tv2.sum())\n",
    "    \n",
    "    print('\\n')\n",
    "       \n",
    "    print(tvis1i.sum())\n",
    "    print(tu1i.sum())\n",
    "    print(tv1i.sum())\n",
    "    \n",
    "    print(tvis2i.sum())\n",
    "    print(tu2i.sum())\n",
    "    print(tv2i.sum())"
   ]
  },
  {
   "cell_type": "code",
   "execution_count": 590,
   "metadata": {},
   "outputs": [],
   "source": [
    "x = np.array([1, 2, 3])\n",
    "y = np.array([4, 5, 6])\n"
   ]
  },
  {
   "cell_type": "code",
   "execution_count": 591,
   "metadata": {},
   "outputs": [
    {
     "data": {
      "text/plain": [
       "array([[ 4,  5,  6],\n",
       "       [ 8, 10, 12],\n",
       "       [12, 15, 18]])"
      ]
     },
     "execution_count": 591,
     "metadata": {},
     "output_type": "execute_result"
    }
   ],
   "source": [
    "np.outer(x, y)"
   ]
  },
  {
   "cell_type": "code",
   "execution_count": 593,
   "metadata": {},
   "outputs": [
    {
     "data": {
      "text/plain": [
       "array([[ 4,  8, 12],\n",
       "       [ 5, 10, 15],\n",
       "       [ 6, 12, 18]])"
      ]
     },
     "execution_count": 593,
     "metadata": {},
     "output_type": "execute_result"
    }
   ],
   "source": [
    "np.outer(y, x)"
   ]
  },
  {
   "cell_type": "code",
   "execution_count": 506,
   "metadata": {},
   "outputs": [],
   "source": [
    "tu1 = np.zeros(W)\n",
    "tvis1 = np.zeros(W, dtype=complex)\n",
    "tv1 = np.zeros(W)\n",
    "\n",
    "su = np.zeros(1)\n",
    "sv = np.zeros(1)\n",
    "svis = np.zeros(1, dtype=complex)\n",
    "\n",
    "\n",
    "tu2 = np.zeros(W2)\n",
    "tvis2 = np.zeros(W2, dtype=complex)\n",
    "tv2 = np.zeros(W2)\n",
    "\n"
   ]
  },
  {
   "cell_type": "code",
   "execution_count": 452,
   "metadata": {},
   "outputs": [],
   "source": [
    "from gridding_python_improved.gridding import grid_1d_from_2d"
   ]
  },
  {
   "cell_type": "code",
   "execution_count": 453,
   "metadata": {},
   "outputs": [],
   "source": [
    "\n",
    "for i in range(nvis):\n",
    "    su[0] = u[i]\n",
    "    sv[0] = v[i]\n",
    "    svis[0] = vis[i]\n",
    "    grid_1d_from_2d(su, svis, du, W, beta, sv, tu1, tvis1, tv1)\n",
    "\n",
    "    grid_1d_from_2d(tv1, tvis1, dv, W, beta, tu1, tv2, tvis2, tu2) # output arrays\n"
   ]
  },
  {
   "cell_type": "code",
   "execution_count": 404,
   "metadata": {},
   "outputs": [
    {
     "name": "stdout",
     "output_type": "stream",
     "text": [
      "-0.5926550220261849j\n",
      "-2.0000000000000004\n",
      "8.475364152705392\n",
      "-1.2603631391341508j\n",
      "-12.000000000000007\n",
      "8.475364152705392\n"
     ]
    }
   ],
   "source": [
    "print(tvis1.sum())\n",
    "print(tu1.sum())\n",
    "print(tv1.sum())\n",
    "\n",
    "    \n",
    "print(tvis2.sum())\n",
    "print(tu2.sum())\n",
    "print(tv1.sum())\n"
   ]
  },
  {
   "cell_type": "code",
   "execution_count": null,
   "metadata": {},
   "outputs": [],
   "source": []
  }
 ],
 "metadata": {
  "kernelspec": {
   "display_name": "Python 3",
   "language": "python",
   "name": "python3"
  },
  "language_info": {
   "codemirror_mode": {
    "name": "ipython",
    "version": 3
   },
   "file_extension": ".py",
   "mimetype": "text/x-python",
   "name": "python",
   "nbconvert_exporter": "python",
   "pygments_lexer": "ipython3",
   "version": "3.8.5"
  }
 },
 "nbformat": 4,
 "nbformat_minor": 4
}
